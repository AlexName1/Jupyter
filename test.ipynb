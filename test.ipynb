{
 "cells": [
  {
   "cell_type": "markdown",
   "source": [
    "Первая программа на языке программирования Python\n",
    "1. Создайте структуру данных, описывающую закрытую социальную сеть (не менее 10 пользователей).\n",
    "Используйте списки и словари для установления взаимосвязей пользователей.\n",
    "2. Создайте функцию, определяющую количество друзей у выбранного пользователя.\n",
    "3. Создайте функцию, выводящую на экран пользователей, отсортированных по количеству друзей."
   ],
   "metadata": {
    "collapsed": false
   }
  },
  {
   "cell_type": "markdown",
   "source": [
    "### Частная социальная сеть"
   ],
   "metadata": {
    "collapsed": false
   }
  },
  {
   "cell_type": "code",
   "execution_count": 1,
   "outputs": [
    {
     "data": {
      "text/plain": "[{'id': 0, 'name': 'Алексей'},\n {'id': 1, 'name': 'Петр'},\n {'id': 2, 'name': 'Александр'},\n {'id': 3, 'name': 'Сергей'},\n {'id': 4, 'name': 'Катя'},\n {'id': 5, 'name': 'Владимир'},\n {'id': 6, 'name': 'Аня'},\n {'id': 7, 'name': 'Дмитрий'},\n {'id': 8, 'name': 'Ирина'},\n {'id': 9, 'name': 'Дарья'},\n {'id': 10, 'name': 'Женя'}]"
     },
     "execution_count": 1,
     "metadata": {},
     "output_type": "execute_result"
    }
   ],
   "source": [
    "users = [\n",
    "{\"id\": 0, \"name\": \"Алексей\"},\n",
    "{\"id\": 1, \"name\" : \"Петр\"},\n",
    "{\"id\": 2, \"name\": \"Александр\"},\n",
    "{\"id\": 3, \"name\": \"Сергей\"},\n",
    "{\"id\": 4, \"name\": \"Катя\"},\n",
    "{\"id\": 5, \"name\": \"Владимир\"},\n",
    "{\"id\": 6, \"name\": \"Аня\"},\n",
    "{\"id\": 7, \"name\": \"Дмитрий\"},\n",
    "{\"id\": 8, \"name\": \"Ирина\"},\n",
    "{\"id\": 9, \"name\": \"Дарья\"},\n",
    "{\"id\": 10, \"name\": \"Женя\"}\n",
    "]\n",
    "type(users)\n",
    "users"
   ],
   "metadata": {
    "collapsed": false,
    "pycharm": {
     "name": "#%%\n"
    }
   }
  },
  {
   "cell_type": "code",
   "execution_count": 15,
   "outputs": [
    {
     "data": {
      "text/plain": "(list,\n [(0, 1),\n  (0, 2),\n  (1, 2),\n  (1, 3),\n  (3, 4),\n  (4, 5),\n  (4, 10),\n  (5, 6),\n  (5, 7),\n  (5, 8),\n  (6, 8),\n  (7, 8),\n  (8, 9),\n  (10, 2),\n  (10, 6)])"
     },
     "execution_count": 15,
     "metadata": {},
     "output_type": "execute_result"
    }
   ],
   "source": [
    "fp = [ (0, 1), (0, 2), (1, 2), (1, 3), (3, 4),\n",
    "(4, 5),(4,10), (5, 6), (5, 7), (5, 8), (6, 8), (7, 8), (8, 9), (10,2), (10,6)]\n",
    "type(fp), fp"
   ],
   "metadata": {
    "collapsed": false,
    "pycharm": {
     "name": "#%%\n"
    }
   }
  },
  {
   "cell_type": "code",
   "execution_count": 16,
   "outputs": [
    {
     "data": {
      "text/plain": "(dict,\n {0: [],\n  1: [],\n  2: [],\n  3: [],\n  4: [],\n  5: [],\n  6: [],\n  7: [],\n  8: [],\n  9: [],\n  10: []})"
     },
     "execution_count": 16,
     "metadata": {},
     "output_type": "execute_result"
    }
   ],
   "source": [
    "# Инициализировать словарь пустым списком для идентификатора\n",
    "# каждого пользователя\n",
    "friendships = {user[\"id\"]: [] for user in users}\n",
    "type(friendships), friendships"
   ],
   "metadata": {
    "collapsed": false,
    "pycharm": {
     "name": "#%%\n"
    }
   }
  },
  {
   "cell_type": "code",
   "execution_count": 17,
   "outputs": [],
   "source": [
    "for i, j in fp:\n",
    "    friendships[i].append(j) # Добавить j как друга для i\n",
    "    friendships[j].append(i) # Добавить i как друга ДЛЯ j"
   ],
   "metadata": {
    "collapsed": false,
    "pycharm": {
     "name": "#%%\n"
    }
   }
  },
  {
   "cell_type": "code",
   "execution_count": 18,
   "outputs": [
    {
     "data": {
      "text/plain": "{0: [1, 2],\n 1: [0, 2, 3],\n 2: [0, 1, 10],\n 3: [1, 4],\n 4: [3, 5, 10],\n 5: [4, 6, 7, 8],\n 6: [5, 8, 10],\n 7: [5, 8],\n 8: [5, 6, 7, 9],\n 9: [8],\n 10: [4, 2, 6]}"
     },
     "execution_count": 18,
     "metadata": {},
     "output_type": "execute_result"
    }
   ],
   "source": [
    "friendships"
   ],
   "metadata": {
    "collapsed": false,
    "pycharm": {
     "name": "#%%\n"
    }
   }
  },
  {
   "cell_type": "markdown",
   "source": [
    "2. Функция, определяющяя количество друзей у выбранного пользователя\n"
   ],
   "metadata": {
    "collapsed": false
   }
  },
  {
   "cell_type": "markdown",
   "source": [
    "Написать функцию, которая определяет сколько друзей есть у пользователя user<br>\n",
    "def number_of_friends(u):<br>\n",
    " * в локальную переменную user_id присвоить значение по ключу id из словаря u - {'id': 0, 'name': 'Алексей'}<br>\n",
    " * в локальную переменную friend_ids присвоить значение по ключу из словаря friendships - 3: [1, 4]\n",
    " * у функции возвращаем количество элементов списка friend_ids"
   ],
   "metadata": {
    "collapsed": false
   }
  },
  {
   "cell_type": "code",
   "execution_count": 42,
   "outputs": [],
   "source": [
    "def number_of_friends(u):\n",
    "    id = u['id']\n",
    "    friend_ids = friendships[id]\n",
    "    return len(friend_ids)"
   ],
   "metadata": {
    "collapsed": false,
    "pycharm": {
     "name": "#%%\n"
    }
   }
  },
  {
   "cell_type": "code",
   "execution_count": 36,
   "outputs": [
    {
     "data": {
      "text/plain": "{'id': 3, 'name': 'Сергей'}"
     },
     "execution_count": 36,
     "metadata": {},
     "output_type": "execute_result"
    }
   ],
   "source": [
    "users[3]"
   ],
   "metadata": {
    "collapsed": false,
    "pycharm": {
     "name": "#%%\n"
    }
   }
  },
  {
   "cell_type": "code",
   "execution_count": 34,
   "outputs": [
    {
     "name": "stdout",
     "output_type": "stream",
     "text": [
      "4\n"
     ]
    }
   ],
   "source": [
    "number_of_friends(users[5]) #выводит количество друзей"
   ],
   "metadata": {
    "collapsed": false,
    "pycharm": {
     "name": "#%%\n"
    }
   }
  },
  {
   "cell_type": "markdown",
   "source": [
    "3. Функция, выводящая на экран пользователей, отсортированных по количеству друзей"
   ],
   "metadata": {
    "collapsed": false
   }
  },
  {
   "cell_type": "markdown",
   "source": [
    "создать список num_friends_by_name, который содержит имя пользователя user[\"name\"] и число его друзей number_of_friends(user)"
   ],
   "metadata": {
    "collapsed": false
   }
  },
  {
   "cell_type": "code",
   "execution_count": 43,
   "outputs": [],
   "source": [
    "num_friends_by_name = []\n",
    "\n",
    "for i in users:\n",
    "    user = (i[\"name\"], number_of_friends(i))\n",
    "    num_friends_by_name.append(user)"
   ],
   "metadata": {
    "collapsed": false,
    "pycharm": {
     "name": "#%%\n"
    }
   }
  },
  {
   "cell_type": "code",
   "execution_count": 44,
   "outputs": [
    {
     "data": {
      "text/plain": "(list,\n [('Алексей', 2),\n  ('Петр', 3),\n  ('Александр', 3),\n  ('Сергей', 2),\n  ('Катя', 3),\n  ('Владимир', 4),\n  ('Аня', 3),\n  ('Дмитрий', 2),\n  ('Ирина', 4),\n  ('Дарья', 1),\n  ('Женя', 3)])"
     },
     "execution_count": 44,
     "metadata": {},
     "output_type": "execute_result"
    }
   ],
   "source": [
    "type(num_friends_by_name), num_friends_by_name"
   ],
   "metadata": {
    "collapsed": false,
    "pycharm": {
     "name": "#%%\n"
    }
   }
  },
  {
   "cell_type": "markdown",
   "source": [
    "Отсортировать список по числу друзей"
   ],
   "metadata": {
    "collapsed": false
   }
  },
  {
   "cell_type": "code",
   "execution_count": 50,
   "outputs": [],
   "source": [
    "num_friends_by_name.sort(key=lambda x: x[1], reverse=True)\n",
    "# Каждая пара представлена кортежем (name, num_friends),\n",
    "# т. е. именем пользователя и числом друзей"
   ],
   "metadata": {
    "collapsed": false,
    "pycharm": {
     "name": "#%%\n"
    }
   }
  },
  {
   "cell_type": "code",
   "execution_count": 51,
   "outputs": [
    {
     "name": "stdout",
     "output_type": "stream",
     "text": [
      "[('Владимир', 4), ('Ирина', 4), ('Петр', 3), ('Александр', 3), ('Катя', 3), ('Аня', 3), ('Женя', 3), ('Алексей', 2), ('Сергей', 2), ('Дмитрий', 2), ('Дарья', 1)]\n"
     ]
    }
   ],
   "source": [
    "print(num_friends_by_name)"
   ],
   "metadata": {
    "collapsed": false,
    "pycharm": {
     "name": "#%%\n"
    }
   }
  },
  {
   "cell_type": "markdown",
   "source": [
    "4. Порекомендуем пользователю список возможных друзей из числа \"друзья друзей\" (НЕОБЯЗАТЕЛЬНО)"
   ],
   "metadata": {
    "collapsed": false
   }
  },
  {
   "cell_type": "code",
   "execution_count": null,
   "outputs": [],
   "source": [
    "### Изменить данную функцию, чтобы она выводила Имена пользователей из списка друзья друзей\n",
    "def friends_of_friends(user):\n",
    "    user_id = user[\"id\"]\n",
    "    return [ff_id\n",
    "            for friend_id in friendships[user_id]\n",
    "            for ff_id in friendships[friend_id]\n",
    "            if ff_id != user_id and ff_id not in friendships[user_id]]\n",
    "friends_of_friends(users[0])"
   ],
   "metadata": {
    "collapsed": false,
    "pycharm": {
     "name": "#%%\n"
    }
   }
  },
  {
   "cell_type": "code",
   "execution_count": null,
   "outputs": [],
   "source": [
    "friends_of_friends(users[0])"
   ],
   "metadata": {
    "collapsed": false,
    "pycharm": {
     "name": "#%%\n"
    }
   }
  },
  {
   "cell_type": "markdown",
   "source": [
    "создать список с кортежами Имя пользователя , Список имен рекомендованных друзей"
   ],
   "metadata": {
    "collapsed": false
   }
  },
  {
   "cell_type": "code",
   "execution_count": null,
   "outputs": [],
   "source": [
    "num_friends_by_friend = ### написать код"
   ],
   "metadata": {
    "collapsed": false,
    "pycharm": {
     "name": "#%%\n"
    }
   }
  },
  {
   "cell_type": "code",
   "execution_count": null,
   "outputs": [],
   "source": [
    "num_friends_by_friend"
   ],
   "metadata": {
    "collapsed": false,
    "pycharm": {
     "name": "#%%\n"
    }
   }
  }
 ],
 "metadata": {
  "kernelspec": {
   "display_name": "Python 3",
   "language": "python",
   "name": "python3"
  },
  "language_info": {
   "codemirror_mode": {
    "name": "ipython",
    "version": 2
   },
   "file_extension": ".py",
   "mimetype": "text/x-python",
   "name": "python",
   "nbconvert_exporter": "python",
   "pygments_lexer": "ipython2",
   "version": "2.7.6"
  }
 },
 "nbformat": 4,
 "nbformat_minor": 0
}